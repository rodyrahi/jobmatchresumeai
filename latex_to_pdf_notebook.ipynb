{
 "cells": [
  {
   "cell_type": "markdown",
   "metadata": {},
   "source": [
    "# LaTeX to PDF Converter\n",
    "\n",
    "This notebook provides a Python script to convert LaTeX code into a PDF file using `pdflatex`. The script takes LaTeX code as input, processes it, and generates a PDF output."
   ]
  },
  {
   "cell_type": "code",
   "execution_count": 6,
   "metadata": {},
   "outputs": [],
   "source": [
    "import subprocess\n",
    "import os\n",
    "import tempfile\n",
    "\n",
    "def latex_to_pdf(latex_code, output_filename=\"output.pdf\"):\n",
    "    \"\"\"\n",
    "    Convert LaTeX code to a PDF file.\n",
    "    \n",
    "    Args:\n",
    "        latex_code (str): The LaTeX code to convert\n",
    "        output_filename (str): Name of the output PDF file\n",
    "    Returns:\n",
    "        bool: True if successful, False if an error occurs\n",
    "    \"\"\"\n",
    "    try:\n",
    "        # Create a temporary directory to store intermediate files\n",
    "        with tempfile.TemporaryDirectory() as temp_dir:\n",
    "            # Define paths for temporary files\n",
    "            tex_path = os.path.join(temp_dir, \"temp.tex\")\n",
    "            pdf_path = os.path.join(temp_dir, \"temp.pdf\")\n",
    "            \n",
    "            # Write LaTeX code to a temporary .tex file\n",
    "            with open(tex_path, \"w\", encoding=\"utf-8\") as tex_file:\n",
    "                tex_file.write(latex_code)\n",
    "            \n",
    "            # Run pdflatex to convert .tex to .pdf\n",
    "            result = subprocess.run(\n",
    "                [\"pdflatex\", \"-output-directory\", temp_dir, tex_path],\n",
    "                capture_output=True,\n",
    "                text=True,\n",
    "                check=True\n",
    "            )\n",
    "            \n",
    "            # Check if PDF was created\n",
    "            if not os.path.exists(pdf_path):\n",
    "                print(\"Error: PDF file was not created.\")\n",
    "                return False\n",
    "            \n",
    "            # Move the PDF to the desired output location\n",
    "            os.rename(pdf_path, output_filename)\n",
    "            print(f\"PDF successfully created: {output_filename}\")\n",
    "            return True\n",
    "            \n",
    "    except subprocess.CalledProcessError as e:\n",
    "        print(f\"Error running pdflatex: {e.stderr}\")\n",
    "        return False\n",
    "    except Exception as e:\n",
    "        print(f\"An error occurred: {str(e)}\")\n",
    "        return False"
   ]
  },
  {
   "cell_type": "markdown",
   "metadata": {},
   "source": [
    "## Example Usage\n",
    "\n",
    "Below is an example of how to use the `latex_to_pdf` function with a sample LaTeX code."
   ]
  },
  {
   "cell_type": "code",
   "execution_count": null,
   "metadata": {},
   "outputs": [
    {
     "name": "stdout",
     "output_type": "stream",
     "text": [
      "An error occurred: [WinError 183] Cannot create a file when that file already exists: 'C:\\\\Users\\\\Nitro\\\\AppData\\\\Local\\\\Temp\\\\tmpan0myx_p\\\\temp.pdf' -> 'sample_output.pdf'\n"
     ]
    },
    {
     "data": {
      "text/plain": [
       "False"
      ]
     },
     "execution_count": 7,
     "metadata": {},
     "output_type": "execute_result"
    },
    {
     "ename": "",
     "evalue": "",
     "output_type": "error",
     "traceback": [
      "\u001b[1;31mThe Kernel crashed while executing code in the current cell or a previous cell. \n",
      "\u001b[1;31mPlease review the code in the cell(s) to identify a possible cause of the failure. \n",
      "\u001b[1;31mClick <a href='https://aka.ms/vscodeJupyterKernelCrash'>here</a> for more info. \n",
      "\u001b[1;31mView Jupyter <a href='command:jupyter.viewOutput'>log</a> for further details."
     ]
    }
   ],
   "source": [
    "# Read LaTeX code from a file\n",
    "with open(\"resume.tex\", \"r\") as file:\n",
    "    sample_latex = file.read()\n",
    "\n",
    "# Convert to PDF\n",
    "latex_to_pdf(sample_latex, \"sample_output.pdf\")"
   ]
  },
  {
   "cell_type": "markdown",
   "metadata": {},
   "source": [
    "## Interactive LaTeX Input\n",
    "\n",
    "You can also provide your own LaTeX code interactively. Run the cell below and paste your LaTeX code into a text file or modify the `custom_latex` variable directly."
   ]
  },
  {
   "cell_type": "code",
   "execution_count": null,
   "metadata": {},
   "outputs": [],
   "source": [
    "# Define your custom LaTeX code here\n",
    "custom_latex = r\"\"\"\n",
    "\\documentclass{article}\n",
    "\\usepackage[utf8]{inputenc}\n",
    "\\begin{document}\n",
    "Hello, this is my custom LaTeX document!\n",
    "\\end{document}\n",
    "\"\"\"\n",
    "\n",
    "# Convert custom LaTeX to PDF\n",
    "latex_to_pdf(custom_latex, \"custom_output.pdf\")"
   ]
  },
  {
   "cell_type": "markdown",
   "metadata": {},
   "source": [
    "## Notes\n",
    "\n",
    "- Ensure `pdflatex` is installed on your system and accessible from the command line.\n",
    "- The script creates temporary files in a temporary directory, which are automatically cleaned up.\n",
    "- If an error occurs, check the error messages for details about what went wrong (e.g., LaTeX syntax errors or missing packages).\n",
    "- The output PDF will be saved in the same directory as this notebook."
   ]
  }
 ],
 "metadata": {
  "kernelspec": {
   "display_name": ".venv",
   "language": "python",
   "name": "python3"
  },
  "language_info": {
   "codemirror_mode": {
    "name": "ipython",
    "version": 3
   },
   "file_extension": ".py",
   "mimetype": "text/x-python",
   "name": "python",
   "nbconvert_exporter": "python",
   "pygments_lexer": "ipython3",
   "version": "3.11.9"
  }
 },
 "nbformat": 4,
 "nbformat_minor": 5
}
