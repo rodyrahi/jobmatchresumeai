{
 "cells": [
  {
   "cell_type": "markdown",
   "metadata": {},
   "source": [
    "# Optimized LaTeX to PDF Converter\n",
    "\n",
    "This notebook provides a Python script to convert LaTeX code into a PDF file using `pdflatex`. It includes optimizations to reduce processing time and handle timeouts for complex documents. The script takes LaTeX code as input, processes it, and generates a PDF output."
   ]
  },
  {
   "cell_type": "code",
   "execution_count": 8,
   "metadata": {},
   "outputs": [],
   "source": [
    "import subprocess\n",
    "import os\n",
    "import tempfile\n",
    "import time\n",
    "\n",
    "def latex_to_pdf(latex_code, output_filename=\"output.pdf\", timeout_seconds=30):\n",
    "    \"\"\"|\n",
    "    Convert LaTeX code to a PDF file with optimizations and timeout handling.\n",
    "    \n",
    "    Args:\n",
    "        latex_code (str): The LaTeX code to convert\n",
    "        output_filename (str): Name of the output PDF file\n",
    "        timeout_seconds (int): Maximum time to wait for pdflatex to complete\n",
    "    Returns:\n",
    "        bool: True if successful, False if an error occurs\n",
    "    \"\"\"\n",
    "    start_time = time.time()\n",
    "    try:\n",
    "        # Create a temporary directory to store intermediate files\n",
    "        with tempfile.TemporaryDirectory() as temp_dir:\n",
    "            # Define paths for temporary files\n",
    "            tex_path = os.path.join(temp_dir, \"temp.tex\")\n",
    "            pdf_path = os.path.join(temp_dir, \"temp.pdf\")\n",
    "            \n",
    "            # Write LaTeX code to a temporary .tex file\n",
    "            with open(tex_path, \"w\", encoding=\"utf-8\") as tex_file:\n",
    "                tex_file.write(latex_code)\n",
    "            \n",
    "            # Run pdflatex with non-interactive mode to avoid hangs\n",
    "            result = subprocess.run(\n",
    "                [\"pdflatex\", \"-interaction=nonstopmode\", \"-output-directory\", temp_dir, tex_path],\n",
    "                capture_output=True,\n",
    "                text=True,\n",
    "                check=True,\n",
    "                timeout=timeout_seconds\n",
    "            )\n",
    "            \n",
    "            # Check if PDF was created\n",
    "            if not os.path.exists(pdf_path):\n",
    "                print(\"Error: PDF file was not created.\")\n",
    "                print(result.stderr)\n",
    "                return False\n",
    "            \n",
    "            # Move the PDF to the desired output location\n",
    "            os.rename(pdf_path, output_filename)\n",
    "            elapsed_time = time.time() - start_time\n",
    "            print(f\"PDF successfully created: {output_filename} in {elapsed_time:.2f} seconds\")\n",
    "            return True\n",
    "            \n",
    "    except subprocess.TimeoutExpired:\n",
    "        print(f\"Error: pdflatex took too long and was terminated after {timeout_seconds} seconds.\")\n",
    "        return False\n",
    "    except subprocess.CalledProcessError as e:\n",
    "        print(f\"Error running pdflatex: {e.stderr}\")\n",
    "        return False\n",
    "    except Exception as e:\n",
    "        print(f\"An error occurred: {str(e)}\")\n",
    "        return False"
   ]
  },
  {
   "cell_type": "markdown",
   "metadata": {},
   "source": [
    "## Example Usage\n",
    "\n",
    "Below is an example of how to use the `latex_to_pdf` function with a sample LaTeX code."
   ]
  },
  {
   "cell_type": "code",
   "execution_count": 11,
   "metadata": {},
   "outputs": [
    {
     "name": "stdout",
     "output_type": "stream",
     "text": [
      "PDF successfully created: sample3.pdf in 0.46 seconds\n"
     ]
    },
    {
     "data": {
      "text/plain": [
       "True"
      ]
     },
     "execution_count": 11,
     "metadata": {},
     "output_type": "execute_result"
    }
   ],
   "source": [
    "# Sample LaTeX code\n",
    "sample_latex = r\"\"\"\n",
    "\\documentclass{article}\n",
    "\\usepackage[utf8]{inputenc}\n",
    "\\begin{document}\n",
    "\\title{Sample LaTeX Document}\n",
    "\\author{Author Name}\n",
    "\\maketitle\n",
    "\\section{Introduction}\n",
    "This is a sample LaTeX document converted to PDF using Python.\n",
    "\\end{document}\n",
    "\"\"\"\n",
    "\n",
    "# Convert to PDF\n",
    "latex_to_pdf(sample_latex, \"sample3.pdf\", timeout_seconds=30)"
   ]
  },
  {
   "cell_type": "markdown",
   "metadata": {},
   "source": [
    "## Interactive LaTeX Input\n",
    "\n",
    "You can provide your own LaTeX code by modifying the `custom_latex` variable below. For large documents, consider reading from a file to avoid slow input handling."
   ]
  },
  {
   "cell_type": "code",
   "execution_count": null,
   "metadata": {},
   "outputs": [],
   "source": [
    "# Define your custom LaTeX code here\n",
    "custom_latex = r\"\"\"\n",
    "\\documentclass{article}\n",
    "\\usepackage[utf8]{inputenc}\n",
    "\\begin{document}\n",
    "Hello, this is my custom LaTeX document!\n",
    "\\end{document}\n",
    "\"\"\"\n",
    "\n",
    "# Convert custom LaTeX to PDF\n",
    "latex_to_pdf(custom_latex, \"custom_output.pdf\", timeout_seconds=30)"
   ]
  },
  {
   "cell_type": "markdown",
   "metadata": {},
   "source": [
    "## Reading LaTeX from a File\n",
    "\n",
    "For large LaTeX documents, reading from a file can be faster than manual input. Save your LaTeX code in a `.tex` file and use the cell below."
   ]
  },
  {
   "cell_type": "code",
   "execution_count": null,
   "metadata": {},
   "outputs": [],
   "source": [
    "# Read LaTeX code from a file\n",
    "input_file = \"path/to/your/document.tex\"  # Replace with your .tex file path\n",
    "try:\n",
    "    with open(input_file, \"r\", encoding=\"utf-8\") as tex_file:\n",
    "        latex_code = tex_file.read()\n",
    "    latex_to_pdf(latex_code, \"file_output.pdf\", timeout_seconds=30)\n",
    "except FileNotFoundError:\n",
    "    print(f\"Error: File {input_file} not found.\")"
   ]
  },
  {
   "cell_type": "markdown",
   "metadata": {},
   "source": [
    "## Optimizations and Troubleshooting\n",
    "\n",
    "### Why is it slow?\n",
    "- **Complex LaTeX Code**: Large documents, heavy use of packages (e.g., `tikz`, `pgfplots`), or many images can slow down `pdflatex`.\n",
    "- **System Resources**: Limited CPU or memory can bottleneck the process.\n",
    "- **Package Dependencies**: Missing or outdated LaTeX packages can cause errors or slow compilation.\n",
    "- **I/O Operations**: Writing and reading large files or images can add overhead.\n",
    "\n",
    "### Optimizations Included\n",
    "- **Non-Interactive Mode**: Uses `-interaction=nonstopmode` to prevent `pdflatex` from hanging on errors.\n",
    "- **Timeout Handling**: Terminates `pdflatex` if it exceeds the specified time (default: 30 seconds).\n",
    "- **Temporary Directory**: Uses `tempfile` to manage intermediate files efficiently and clean up automatically.\n",
    "- **Elapsed Time Reporting**: Measures and displays the time taken for conversion.\n",
    "\n",
    "### Tips to Speed Up\n",
    "1. **Simplify LaTeX Code**:\n",
    "   - Avoid unnecessary packages or complex graphics.\n",
    "   - Use `\\includegraphics` with compressed images (e.g., PNG or JPEG instead of high-resolution PDFs).\n",
    "   - Minimize `tikz` or `pgfplots` usage or pre-render complex figures.\n",
    "2. **Use a Faster LaTeX Engine**:\n",
    "   - Replace `pdflatex` with `lualatex` or `xelatex` for certain documents (modify the `subprocess.run` command accordingly).\n",
    "   - Example: `[\"lualatex\", \"-interaction=nonstopmode\", \"-output-directory\", temp_dir, tex_path]`\n",
    "3. **Precompile Packages**:\n",
    "   - Use `mylatexformat` to precompile frequently used packages.\n",
    "4. **Optimize Images**:\n",
    "   - Compress images before including them in LaTeX.\n",
    "   - Use tools like `ImageMagick` to reduce image size.\n",
    "5. **Check System Resources**:\n",
    "   - Ensure your system has sufficient CPU and memory.\n",
    "   - Close unnecessary applications during compilation.\n",
    "6. **Update LaTeX Distribution**:\n",
    "   - Ensure you have the latest version of TeX Live or MiKTeX for performance improvements.\n",
    "7. **Debug Slow Compilation**:\n",
    "   - Check the `pdflatex` output (stored in `result.stderr`) for warnings about slow operations.\n",
    "   - Look for missing fonts or packages causing delays.\n",
    "\n",
    "### Notes\n",
    "- Ensure `pdflatex` is installed and accessible from the command line (e.g., part of TeX Live or MiKTeX).\n",
    "- The output PDF will be saved in the same directory as this notebook.\n",
    "- For very large documents, consider breaking them into smaller parts or using `include`/`input` to compile sections separately.\n",
    "- If timeouts persist, increase `timeout_seconds` or simplify the LaTeX code."
   ]
  }
 ],
 "metadata": {
  "kernelspec": {
   "display_name": ".venv",
   "language": "python",
   "name": "python3"
  },
  "language_info": {
   "codemirror_mode": {
    "name": "ipython",
    "version": 3
   },
   "file_extension": ".py",
   "mimetype": "text/x-python",
   "name": "python",
   "nbconvert_exporter": "python",
   "pygments_lexer": "ipython3",
   "version": "3.11.9"
  }
 },
 "nbformat": 4,
 "nbformat_minor": 5
}
